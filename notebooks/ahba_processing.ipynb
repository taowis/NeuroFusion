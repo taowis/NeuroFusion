{
  "cells": [
    {
      "cell_type": "markdown",
      "metadata": {},
      "source": [
        "# AHBA \u2192 Region aggregation (exploration)\n",
        "This notebook demonstrates using `abagen` + `nilearn` to aggregate gene expression to atlas regions."
      ]
    },
    {
      "cell_type": "code",
      "metadata": {},
      "execution_count": null,
      "outputs": [],
      "source": [
        "from app.data_loader import load_harvard_oxford, prep_ahba_to_regions\n",
        "atlas = load_harvard_oxford(resolution=2)\n",
        "df = prep_ahba_to_regions(atlas)\n",
        "df.head()"
      ]
    }
  ],
  "metadata": {
    "kernelspec": {
      "display_name": "Python 3",
      "language": "python",
      "name": "python3"
    }
  },
  "nbformat": 4,
  "nbformat_minor": 5
}